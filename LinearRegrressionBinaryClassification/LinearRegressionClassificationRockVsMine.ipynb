{
  "nbformat": 4,
  "nbformat_minor": 0,
  "metadata": {
    "colab": {
      "provenance": [],
      "authorship_tag": "ABX9TyPupQgMCiw+VZYO4I2dbd6H",
      "include_colab_link": true
    },
    "kernelspec": {
      "name": "python3",
      "display_name": "Python 3"
    },
    "language_info": {
      "name": "python"
    }
  },
  "cells": [
    {
      "cell_type": "markdown",
      "metadata": {
        "id": "view-in-github",
        "colab_type": "text"
      },
      "source": [
        "<a href=\"https://colab.research.google.com/github/gssajith/MachineLearningProjects/blob/main/LinearRegressionClassificationRockVsMine.ipynb\" target=\"_parent\"><img src=\"https://colab.research.google.com/assets/colab-badge.svg\" alt=\"Open In Colab\"/></a>"
      ]
    },
    {
      "cell_type": "markdown",
      "source": [
        "#Import Libraries\n"
      ],
      "metadata": {
        "id": "hsH5h9noPD_7"
      }
    },
    {
      "cell_type": "code",
      "execution_count": null,
      "metadata": {
        "id": "FbcOcjEoOPmD"
      },
      "outputs": [],
      "source": [
        "import numpy as np\n",
        "import pandas as pd\n",
        "from sklearn.model_selection import train_test_split\n",
        "from sklearn.linear_model import LogisticRegression\n",
        "from sklearn.metrics import accuracy_score"
      ]
    },
    {
      "cell_type": "markdown",
      "source": [
        "#Load and Pre-process Data"
      ],
      "metadata": {
        "id": "tdj1JPnkPnCn"
      }
    },
    {
      "cell_type": "code",
      "source": [
        "sonar_data = pd.read_csv('/content/sonardata.csv', header=None)"
      ],
      "metadata": {
        "id": "qPQdZdo9PJ4_"
      },
      "execution_count": null,
      "outputs": []
    },
    {
      "cell_type": "code",
      "source": [
        "sonar_data.head()"
      ],
      "metadata": {
        "id": "kCVNH_CAP5By"
      },
      "execution_count": null,
      "outputs": []
    },
    {
      "cell_type": "code",
      "source": [
        "sonar_data.info()"
      ],
      "metadata": {
        "id": "9BsrdrfaQBZO"
      },
      "execution_count": null,
      "outputs": []
    },
    {
      "cell_type": "code",
      "source": [
        "sonar_data.shape"
      ],
      "metadata": {
        "id": "rYxsLz0dQRr7"
      },
      "execution_count": null,
      "outputs": []
    },
    {
      "cell_type": "code",
      "source": [
        "sonar_data.sample(frac=1).reset_index(drop=True)\n"
      ],
      "metadata": {
        "id": "Fs1CzQNnRutq"
      },
      "execution_count": null,
      "outputs": []
    },
    {
      "cell_type": "code",
      "source": [
        "sonar_data.describe()"
      ],
      "metadata": {
        "id": "tRUtPX3MkSW7"
      },
      "execution_count": null,
      "outputs": []
    },
    {
      "cell_type": "code",
      "source": [
        "sonar_data[60].value_counts()"
      ],
      "metadata": {
        "id": "K350cvnAk1VJ"
      },
      "execution_count": null,
      "outputs": []
    },
    {
      "cell_type": "code",
      "source": [
        "sonar_data.groupby(60).mean()\n"
      ],
      "metadata": {
        "id": "doldmNBQlIVO"
      },
      "execution_count": null,
      "outputs": []
    },
    {
      "cell_type": "markdown",
      "source": [
        "#Defining Data and Labels\n"
      ],
      "metadata": {
        "id": "wQCKle19qO6W"
      }
    },
    {
      "cell_type": "code",
      "source": [
        "X = sonar_data.drop(columns=60, axis=1)\n",
        "Y = sonar_data[60]"
      ],
      "metadata": {
        "id": "iUlK0boEn68C"
      },
      "execution_count": null,
      "outputs": []
    },
    {
      "cell_type": "code",
      "source": [
        "X_train, X_test, Y_train, Y_test = train_test_split(X, Y, test_size=0.1, stratify=Y, random_state=1)"
      ],
      "metadata": {
        "id": "Nfhxv9VCqhvq"
      },
      "execution_count": null,
      "outputs": []
    },
    {
      "cell_type": "code",
      "source": [
        "print(X_train.shape, X_test.shape, Y_train.shape, Y_test.shape)"
      ],
      "metadata": {
        "id": "KA9qJQ5BrD81"
      },
      "execution_count": null,
      "outputs": []
    },
    {
      "cell_type": "markdown",
      "source": [
        "#Train and Predict\n"
      ],
      "metadata": {
        "id": "HZUnDY0Lrxxu"
      }
    },
    {
      "cell_type": "code",
      "source": [
        "model = LogisticRegression()\n",
        "\n"
      ],
      "metadata": {
        "id": "dl7R5bo4reOR"
      },
      "execution_count": null,
      "outputs": []
    },
    {
      "cell_type": "code",
      "source": [
        "model.fit(X_train, Y_train)\n"
      ],
      "metadata": {
        "id": "xi4mQhhjr9am"
      },
      "execution_count": null,
      "outputs": []
    },
    {
      "cell_type": "code",
      "source": [
        "score = accuracy_score(model.predict(X_train), Y_train)\n",
        "print(score)"
      ],
      "metadata": {
        "id": "92WA2BEGshbe"
      },
      "execution_count": null,
      "outputs": []
    },
    {
      "cell_type": "code",
      "source": [
        "score = accuracy_score(model.predict(X_test), Y_test)\n",
        "print(score)"
      ],
      "metadata": {
        "id": "Mtvc6A87sryx"
      },
      "execution_count": null,
      "outputs": []
    },
    {
      "cell_type": "markdown",
      "source": [
        "#Making a Prediction System"
      ],
      "metadata": {
        "id": "A60cS1tdtdXL"
      }
    },
    {
      "cell_type": "code",
      "source": [
        "input_data = (0.0270,0.0092,0.0145,0.0278,0.0412,0.0757,0.1026,0.1138,0.0794,0.1520,0.1675,0.1370,0.1361,0.1345,0.2144,0.5354,0.6830,0.5600,0.3093,0.3226,0.4430,0.5573,0.5782,0.6173,0.8132,0.9819,0.9823,0.9166,0.7423,0.7736,0.8473,0.7352,0.6671,0.6083,0.6239,0.5972,0.5715,0.5242,0.2924,0.1536,0.2003,0.2031,0.2207,0.1778,0.1353,0.1373,0.0749,0.0472,0.0325,0.0179,0.0045,0.0084,0.0010,0.0018,0.0068,0.0039,0.0120,0.0132,0.0070,0.0088)\n",
        "input_data_np = np.asarray(input_data)\n",
        "\n",
        "input_data_np = input_data_np.reshape(1,-1)\n",
        "print(model.predict(input_data_np))\n"
      ],
      "metadata": {
        "id": "NHxfkgWntN7G"
      },
      "execution_count": null,
      "outputs": []
    },
    {
      "cell_type": "code",
      "source": [],
      "metadata": {
        "id": "qlWX_3m4tozA"
      },
      "execution_count": null,
      "outputs": []
    }
  ]
}