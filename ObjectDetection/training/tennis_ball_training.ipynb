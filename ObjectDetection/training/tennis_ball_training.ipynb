{
 "cells": [
  {
   "cell_type": "code",
   "execution_count": 1,
   "metadata": {},
   "outputs": [
    {
     "name": "stdout",
     "output_type": "stream",
     "text": [
      "Looking in indexes: https://pypi.org/simple, https://packagecloud.io/github/git-lfs/pypi/simple\n",
      "Collecting roboflow\n",
      "  Downloading roboflow-1.1.27-py3-none-any.whl (74 kB)\n",
      "\u001b[2K     \u001b[90m━━━━━━━━━━━━━━━━━━━━━━━━━━━━━━━━━━━━━━━━\u001b[0m \u001b[32m74.1/74.1 KB\u001b[0m \u001b[31m3.0 MB/s\u001b[0m eta \u001b[36m0:00:00\u001b[0m\n",
      "\u001b[?25hCollecting requests-toolbelt\n",
      "  Downloading requests_toolbelt-1.0.0-py2.py3-none-any.whl (54 kB)\n",
      "\u001b[2K     \u001b[90m━━━━━━━━━━━━━━━━━━━━━━━━━━━━━━━━━━━━━━━━\u001b[0m \u001b[32m54.5/54.5 KB\u001b[0m \u001b[31m12.4 MB/s\u001b[0m eta \u001b[36m0:00:00\u001b[0m\n",
      "\u001b[?25hCollecting chardet==4.0.0\n",
      "  Downloading chardet-4.0.0-py2.py3-none-any.whl (178 kB)\n",
      "\u001b[2K     \u001b[90m━━━━━━━━━━━━━━━━━━━━━━━━━━━━━━━━━━━━━━━\u001b[0m \u001b[32m178.7/178.7 KB\u001b[0m \u001b[31m8.5 MB/s\u001b[0m eta \u001b[36m0:00:00\u001b[0m\n",
      "\u001b[?25hRequirement already satisfied: Pillow>=7.1.2 in /home/sajith/UK/workspace/MachineLearningProjects/ObjectDetection/objdetect/lib/python3.10/site-packages (from roboflow) (10.3.0)\n",
      "Collecting python-dotenv\n",
      "  Downloading python_dotenv-1.0.1-py3-none-any.whl (19 kB)\n",
      "Requirement already satisfied: six in /home/sajith/UK/workspace/MachineLearningProjects/ObjectDetection/objdetect/lib/python3.10/site-packages (from roboflow) (1.16.0)\n",
      "Requirement already satisfied: requests in /home/sajith/UK/workspace/MachineLearningProjects/ObjectDetection/objdetect/lib/python3.10/site-packages (from roboflow) (2.31.0)\n",
      "Collecting certifi==2023.7.22\n",
      "  Downloading certifi-2023.7.22-py3-none-any.whl (158 kB)\n",
      "\u001b[2K     \u001b[90m━━━━━━━━━━━━━━━━━━━━━━━━━━━━━━━━━━━━━━━\u001b[0m \u001b[32m158.3/158.3 KB\u001b[0m \u001b[31m5.5 MB/s\u001b[0m eta \u001b[36m0:00:00\u001b[0m\n",
      "\u001b[?25hCollecting python-magic\n",
      "  Downloading python_magic-0.4.27-py2.py3-none-any.whl (13 kB)\n",
      "Collecting idna==2.10\n",
      "  Downloading idna-2.10-py2.py3-none-any.whl (58 kB)\n",
      "\u001b[2K     \u001b[90m━━━━━━━━━━━━━━━━━━━━━━━━━━━━━━━━━━━━━━━━\u001b[0m \u001b[32m58.8/58.8 KB\u001b[0m \u001b[31m7.4 MB/s\u001b[0m eta \u001b[36m0:00:00\u001b[0m\n",
      "\u001b[?25hRequirement already satisfied: PyYAML>=5.3.1 in /home/sajith/UK/workspace/MachineLearningProjects/ObjectDetection/objdetect/lib/python3.10/site-packages (from roboflow) (6.0.1)\n",
      "Collecting cycler==0.10.0\n",
      "  Downloading cycler-0.10.0-py2.py3-none-any.whl (6.5 kB)\n",
      "Requirement already satisfied: python-dateutil in /home/sajith/UK/workspace/MachineLearningProjects/ObjectDetection/objdetect/lib/python3.10/site-packages (from roboflow) (2.9.0.post0)\n",
      "Requirement already satisfied: kiwisolver>=1.3.1 in /home/sajith/UK/workspace/MachineLearningProjects/ObjectDetection/objdetect/lib/python3.10/site-packages (from roboflow) (1.4.5)\n",
      "Requirement already satisfied: matplotlib in /home/sajith/UK/workspace/MachineLearningProjects/ObjectDetection/objdetect/lib/python3.10/site-packages (from roboflow) (3.8.4)\n",
      "Collecting opencv-python-headless==4.8.0.74\n",
      "  Downloading opencv_python_headless-4.8.0.74-cp37-abi3-manylinux_2_17_x86_64.manylinux2014_x86_64.whl (49.1 MB)\n",
      "\u001b[2K     \u001b[90m━━━━━━━━━━━━━━━━━━━━━━━━━━━━━━━━━━━━━━━━\u001b[0m \u001b[32m49.1/49.1 MB\u001b[0m \u001b[31m8.2 MB/s\u001b[0m eta \u001b[36m0:00:00\u001b[0m00:01\u001b[0m00:01\u001b[0m\n",
      "\u001b[?25hRequirement already satisfied: tqdm>=4.41.0 in /home/sajith/UK/workspace/MachineLearningProjects/ObjectDetection/objdetect/lib/python3.10/site-packages (from roboflow) (4.66.2)\n",
      "Requirement already satisfied: urllib3>=1.26.6 in /home/sajith/UK/workspace/MachineLearningProjects/ObjectDetection/objdetect/lib/python3.10/site-packages (from roboflow) (2.2.1)\n",
      "Requirement already satisfied: numpy>=1.18.5 in /home/sajith/UK/workspace/MachineLearningProjects/ObjectDetection/objdetect/lib/python3.10/site-packages (from roboflow) (1.26.4)\n",
      "Requirement already satisfied: packaging>=20.0 in /home/sajith/UK/workspace/MachineLearningProjects/ObjectDetection/objdetect/lib/python3.10/site-packages (from matplotlib->roboflow) (24.0)\n",
      "Requirement already satisfied: fonttools>=4.22.0 in /home/sajith/UK/workspace/MachineLearningProjects/ObjectDetection/objdetect/lib/python3.10/site-packages (from matplotlib->roboflow) (4.51.0)\n",
      "Requirement already satisfied: pyparsing>=2.3.1 in /home/sajith/UK/workspace/MachineLearningProjects/ObjectDetection/objdetect/lib/python3.10/site-packages (from matplotlib->roboflow) (3.1.2)\n",
      "Requirement already satisfied: contourpy>=1.0.1 in /home/sajith/UK/workspace/MachineLearningProjects/ObjectDetection/objdetect/lib/python3.10/site-packages (from matplotlib->roboflow) (1.2.1)\n",
      "Requirement already satisfied: charset-normalizer<4,>=2 in /home/sajith/UK/workspace/MachineLearningProjects/ObjectDetection/objdetect/lib/python3.10/site-packages (from requests->roboflow) (3.3.2)\n",
      "Installing collected packages: python-magic, python-dotenv, opencv-python-headless, idna, cycler, chardet, certifi, requests-toolbelt, roboflow\n",
      "  Attempting uninstall: idna\n",
      "    Found existing installation: idna 3.7\n",
      "    Uninstalling idna-3.7:\n",
      "      Successfully uninstalled idna-3.7\n",
      "  Attempting uninstall: cycler\n",
      "    Found existing installation: cycler 0.12.1\n",
      "    Uninstalling cycler-0.12.1:\n",
      "      Successfully uninstalled cycler-0.12.1\n",
      "  Attempting uninstall: certifi\n",
      "    Found existing installation: certifi 2024.2.2\n",
      "    Uninstalling certifi-2024.2.2:\n",
      "      Successfully uninstalled certifi-2024.2.2\n",
      "Successfully installed certifi-2023.7.22 chardet-4.0.0 cycler-0.10.0 idna-2.10 opencv-python-headless-4.8.0.74 python-dotenv-1.0.1 python-magic-0.4.27 requests-toolbelt-1.0.0 roboflow-1.1.27\n",
      "Note: you may need to restart the kernel to use updated packages.\n"
     ]
    }
   ],
   "source": [
    "%pip install roboflow\n",
    "#!pip install ultralytics"
   ]
  },
  {
   "cell_type": "markdown",
   "metadata": {},
   "source": [
    "GET DATA SET"
   ]
  },
  {
   "cell_type": "code",
   "execution_count": 2,
   "metadata": {},
   "outputs": [
    {
     "name": "stdout",
     "output_type": "stream",
     "text": [
      "Looking in indexes: https://pypi.org/simple, https://packagecloud.io/github/git-lfs/pypi/simple\n",
      "Requirement already satisfied: roboflow in /home/sajith/UK/workspace/MachineLearningProjects/ObjectDetection/objdetect/lib/python3.10/site-packages (1.1.27)\n",
      "Requirement already satisfied: certifi==2023.7.22 in /home/sajith/UK/workspace/MachineLearningProjects/ObjectDetection/objdetect/lib/python3.10/site-packages (from roboflow) (2023.7.22)\n",
      "Requirement already satisfied: tqdm>=4.41.0 in /home/sajith/UK/workspace/MachineLearningProjects/ObjectDetection/objdetect/lib/python3.10/site-packages (from roboflow) (4.66.2)\n",
      "Requirement already satisfied: PyYAML>=5.3.1 in /home/sajith/UK/workspace/MachineLearningProjects/ObjectDetection/objdetect/lib/python3.10/site-packages (from roboflow) (6.0.1)\n",
      "Requirement already satisfied: python-magic in /home/sajith/UK/workspace/MachineLearningProjects/ObjectDetection/objdetect/lib/python3.10/site-packages (from roboflow) (0.4.27)\n",
      "Requirement already satisfied: six in /home/sajith/UK/workspace/MachineLearningProjects/ObjectDetection/objdetect/lib/python3.10/site-packages (from roboflow) (1.16.0)\n",
      "Requirement already satisfied: idna==2.10 in /home/sajith/UK/workspace/MachineLearningProjects/ObjectDetection/objdetect/lib/python3.10/site-packages (from roboflow) (2.10)\n",
      "Requirement already satisfied: matplotlib in /home/sajith/UK/workspace/MachineLearningProjects/ObjectDetection/objdetect/lib/python3.10/site-packages (from roboflow) (3.8.4)\n",
      "Requirement already satisfied: numpy>=1.18.5 in /home/sajith/UK/workspace/MachineLearningProjects/ObjectDetection/objdetect/lib/python3.10/site-packages (from roboflow) (1.26.4)\n",
      "Requirement already satisfied: requests-toolbelt in /home/sajith/UK/workspace/MachineLearningProjects/ObjectDetection/objdetect/lib/python3.10/site-packages (from roboflow) (1.0.0)\n",
      "Requirement already satisfied: chardet==4.0.0 in /home/sajith/UK/workspace/MachineLearningProjects/ObjectDetection/objdetect/lib/python3.10/site-packages (from roboflow) (4.0.0)\n",
      "Requirement already satisfied: python-dotenv in /home/sajith/UK/workspace/MachineLearningProjects/ObjectDetection/objdetect/lib/python3.10/site-packages (from roboflow) (1.0.1)\n",
      "Requirement already satisfied: requests in /home/sajith/UK/workspace/MachineLearningProjects/ObjectDetection/objdetect/lib/python3.10/site-packages (from roboflow) (2.31.0)\n",
      "Requirement already satisfied: Pillow>=7.1.2 in /home/sajith/UK/workspace/MachineLearningProjects/ObjectDetection/objdetect/lib/python3.10/site-packages (from roboflow) (10.3.0)\n",
      "Requirement already satisfied: urllib3>=1.26.6 in /home/sajith/UK/workspace/MachineLearningProjects/ObjectDetection/objdetect/lib/python3.10/site-packages (from roboflow) (2.2.1)\n",
      "Requirement already satisfied: cycler==0.10.0 in /home/sajith/UK/workspace/MachineLearningProjects/ObjectDetection/objdetect/lib/python3.10/site-packages (from roboflow) (0.10.0)\n",
      "Requirement already satisfied: python-dateutil in /home/sajith/UK/workspace/MachineLearningProjects/ObjectDetection/objdetect/lib/python3.10/site-packages (from roboflow) (2.9.0.post0)\n",
      "Requirement already satisfied: kiwisolver>=1.3.1 in /home/sajith/UK/workspace/MachineLearningProjects/ObjectDetection/objdetect/lib/python3.10/site-packages (from roboflow) (1.4.5)\n",
      "Requirement already satisfied: opencv-python-headless==4.8.0.74 in /home/sajith/UK/workspace/MachineLearningProjects/ObjectDetection/objdetect/lib/python3.10/site-packages (from roboflow) (4.8.0.74)\n",
      "Requirement already satisfied: packaging>=20.0 in /home/sajith/UK/workspace/MachineLearningProjects/ObjectDetection/objdetect/lib/python3.10/site-packages (from matplotlib->roboflow) (24.0)\n",
      "Requirement already satisfied: pyparsing>=2.3.1 in /home/sajith/UK/workspace/MachineLearningProjects/ObjectDetection/objdetect/lib/python3.10/site-packages (from matplotlib->roboflow) (3.1.2)\n",
      "Requirement already satisfied: fonttools>=4.22.0 in /home/sajith/UK/workspace/MachineLearningProjects/ObjectDetection/objdetect/lib/python3.10/site-packages (from matplotlib->roboflow) (4.51.0)\n",
      "Requirement already satisfied: contourpy>=1.0.1 in /home/sajith/UK/workspace/MachineLearningProjects/ObjectDetection/objdetect/lib/python3.10/site-packages (from matplotlib->roboflow) (1.2.1)\n",
      "Requirement already satisfied: charset-normalizer<4,>=2 in /home/sajith/UK/workspace/MachineLearningProjects/ObjectDetection/objdetect/lib/python3.10/site-packages (from requests->roboflow) (3.3.2)\n",
      "Note: you may need to restart the kernel to use updated packages.\n",
      "loading Roboflow workspace...\n",
      "loading Roboflow project...\n"
     ]
    },
    {
     "name": "stderr",
     "output_type": "stream",
     "text": [
      "Downloading Dataset Version Zip in Tennis-6 to yolov5pytorch:: 100%|██████████| 411995/411995 [00:50<00:00, 8122.34it/s]"
     ]
    },
    {
     "name": "stdout",
     "output_type": "stream",
     "text": [
      "\n"
     ]
    },
    {
     "name": "stderr",
     "output_type": "stream",
     "text": [
      "\n",
      "Extracting Dataset Version Zip to Tennis-6 in yolov5pytorch:: 100%|██████████| 14742/14742 [00:01<00:00, 10394.10it/s]\n"
     ]
    }
   ],
   "source": [
    "%pip install roboflow\n",
    "\n",
    "from roboflow import Roboflow\n",
    "rf = Roboflow(api_key=\"HPax5hUP5poKUAAqwymp\")\n",
    "project = rf.workspace(\"tennisobjectdetect\").project(\"tennis-ybzmd\")\n",
    "version = project.version(6)\n",
    "dataset = version.download(\"yolov5\")\n"
   ]
  },
  {
   "cell_type": "code",
   "execution_count": 3,
   "metadata": {},
   "outputs": [],
   "source": [
    "import shutil"
   ]
  },
  {
   "cell_type": "code",
   "execution_count": 4,
   "metadata": {},
   "outputs": [
    {
     "data": {
      "text/plain": [
       "'Tennis-6/Tennis-6/valid'"
      ]
     },
     "execution_count": 4,
     "metadata": {},
     "output_type": "execute_result"
    }
   ],
   "source": [
    "shutil.move(\"Tennis-6/test\", \"Tennis-6/Tennis-6/test\")\n",
    "shutil.move(\"Tennis-6/train\", \"Tennis-6/Tennis-6/train\")\n",
    "shutil.move(\"Tennis-6/valid\", \"Tennis-6/Tennis-6/valid\")"
   ]
  },
  {
   "cell_type": "code",
   "execution_count": null,
   "metadata": {},
   "outputs": [],
   "source": [
    "%yolo task=detect mode=train model=yolov516u.pt data={dataset.location}/data.yml epochs=100 imgsz=640"
   ]
  }
 ],
 "metadata": {
  "kernelspec": {
   "display_name": "objdetect",
   "language": "python",
   "name": "python3"
  },
  "language_info": {
   "codemirror_mode": {
    "name": "ipython",
    "version": 3
   },
   "file_extension": ".py",
   "mimetype": "text/x-python",
   "name": "python",
   "nbconvert_exporter": "python",
   "pygments_lexer": "ipython3",
   "version": "3.10.12"
  }
 },
 "nbformat": 4,
 "nbformat_minor": 2
}
